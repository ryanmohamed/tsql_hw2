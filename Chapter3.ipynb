{
    "metadata": {
        "kernelspec": {
            "name": "SQL",
            "display_name": "SQL",
            "language": "sql"
        },
        "language_info": {
            "name": "sql",
            "version": ""
        }
    },
    "nbformat_minor": 2,
    "nbformat": 4,
    "cells": [
        {
            "cell_type": "code",
            "source": [
                "use Northwinds2022TSQLV7"
            ],
            "metadata": {
                "azdata_cell_guid": "9d942910-473c-443f-af4b-bca2a2d753e0",
                "language": "sql"
            },
            "outputs": [],
            "execution_count": null
        }
    ]
}